{
  "nbformat": 4,
  "nbformat_minor": 0,
  "metadata": {
    "colab": {
      "provenance": [],
      "gpuType": "V28"
    },
    "kernelspec": {
      "name": "python3",
      "display_name": "Python 3"
    },
    "language_info": {
      "name": "python"
    },
    "accelerator": "TPU"
  },
  "cells": [
    {
      "cell_type": "code",
      "execution_count": null,
      "metadata": {
        "id": "lU3L5Rc7zJWA"
      },
      "outputs": [],
      "source": [
        "import pandas as pd\n",
        "import numpy as np\n",
        "import matplotlib.pyplot as plt\n",
        "from sklearn.model_selection import train_test_split\n",
        "from sklearn.preprocessing import LabelEncoder\n",
        "from sklearn.metrics import classification_report, confusion_matrix, accuracy_score\n",
        "import pickle\n",
        "import re\n",
        "from tensorflow.keras.preprocessing.text import Tokenizer\n",
        "from tensorflow.keras.preprocessing.sequence import pad_sequences\n",
        "from tensorflow.keras.models import Sequential\n",
        "from tensorflow.keras.layers import Embedding, LSTM, Dense, Dropout\n",
        "from tensorflow.keras.utils import to_categorical"
      ]
    },
    {
      "cell_type": "code",
      "source": [
        "df=pd.read_csv('preprocessed_data.csv')"
      ],
      "metadata": {
        "id": "yK6g-60w352i"
      },
      "execution_count": null,
      "outputs": []
    },
    {
      "cell_type": "code",
      "source": [
        "df = df.drop(columns=['Unnamed: 0'])\n"
      ],
      "metadata": {
        "id": "hYM1pUlu4A-e"
      },
      "execution_count": null,
      "outputs": []
    },
    {
      "cell_type": "code",
      "source": [
        "label_encoder = LabelEncoder()\n",
        "df['subreddit'] = label_encoder.fit_transform(df['subreddit'])\n",
        "num_classes = len(label_encoder.classes_)"
      ],
      "metadata": {
        "id": "F34dMpf84D7G"
      },
      "execution_count": null,
      "outputs": []
    },
    {
      "cell_type": "code",
      "source": [
        "X_train, X_test, y_train, y_test = train_test_split(df['text'], df['subreddit'], test_size=0.2, random_state=42)\n"
      ],
      "metadata": {
        "id": "wHAcc8vR4Pzv"
      },
      "execution_count": null,
      "outputs": []
    },
    {
      "cell_type": "code",
      "source": [
        "max_words = 50000\n",
        "max_len = 200\n",
        "tokenizer = Tokenizer(num_words=max_words)\n",
        "tokenizer.fit_on_texts(X_train)\n",
        "X_train_seq = tokenizer.texts_to_sequences(X_train)\n",
        "X_test_seq = tokenizer.texts_to_sequences(X_test)\n",
        "X_train_pad = pad_sequences(X_train_seq, maxlen=max_len)\n",
        "X_test_pad = pad_sequences(X_test_seq, maxlen=max_len)"
      ],
      "metadata": {
        "id": "92Zt6IwW4WeB"
      },
      "execution_count": null,
      "outputs": []
    },
    {
      "cell_type": "code",
      "source": [
        "y_train_cat = to_categorical(y_train, num_classes=num_classes)\n",
        "y_test_cat = to_categorical(y_test, num_classes=num_classes)"
      ],
      "metadata": {
        "id": "GPe6VPct4ekj"
      },
      "execution_count": null,
      "outputs": []
    },
    {
      "cell_type": "code",
      "source": [
        "model = Sequential()\n",
        "model.add(Embedding(input_dim=max_words, output_dim=128, input_length=max_len))\n",
        "model.add(LSTM(128, dropout=0.2, recurrent_dropout=0.2))\n",
        "model.add(Dense(num_classes, activation='softmax'))"
      ],
      "metadata": {
        "id": "umSBImNB4hh-"
      },
      "execution_count": null,
      "outputs": []
    },
    {
      "cell_type": "code",
      "source": [
        "model.compile(loss='categorical_crossentropy', optimizer='adam', metrics=['accuracy'])\n"
      ],
      "metadata": {
        "id": "GNVNwLKG4lyy"
      },
      "execution_count": null,
      "outputs": []
    },
    {
      "cell_type": "code",
      "source": [
        "history = model.fit(X_train_pad, y_train_cat, batch_size=32, epochs=10, validation_split=0.2)\n"
      ],
      "metadata": {
        "colab": {
          "base_uri": "https://localhost:8080/"
        },
        "id": "cdKjUdHx4odp",
        "outputId": "89321f0c-1277-45f9-a762-31f9a066a194"
      },
      "execution_count": null,
      "outputs": [
        {
          "output_type": "stream",
          "name": "stdout",
          "text": [
            "Epoch 1/10\n",
            "3058/3058 [==============================] - 545s 178ms/step - loss: 0.9196 - accuracy: 0.6436 - val_loss: 0.7933 - val_accuracy: 0.7032\n",
            "Epoch 2/10\n",
            "3058/3058 [==============================] - 545s 178ms/step - loss: 0.7200 - accuracy: 0.7332 - val_loss: 0.7689 - val_accuracy: 0.7098\n",
            "Epoch 3/10\n",
            "3058/3058 [==============================] - 544s 178ms/step - loss: 0.6322 - accuracy: 0.7689 - val_loss: 0.7886 - val_accuracy: 0.7085\n",
            "Epoch 4/10\n",
            "3058/3058 [==============================] - 544s 178ms/step - loss: 0.5350 - accuracy: 0.8070 - val_loss: 0.8528 - val_accuracy: 0.6951\n",
            "Epoch 5/10\n",
            "3058/3058 [==============================] - 544s 178ms/step - loss: 0.4413 - accuracy: 0.8440 - val_loss: 0.9739 - val_accuracy: 0.6818\n",
            "Epoch 6/10\n",
            "3058/3058 [==============================] - 545s 178ms/step - loss: 0.3632 - accuracy: 0.8716 - val_loss: 1.0503 - val_accuracy: 0.6693\n",
            "Epoch 7/10\n",
            "3058/3058 [==============================] - 545s 178ms/step - loss: 0.3031 - accuracy: 0.8935 - val_loss: 1.2330 - val_accuracy: 0.6620\n",
            "Epoch 8/10\n",
            "3058/3058 [==============================] - 543s 178ms/step - loss: 0.2581 - accuracy: 0.9093 - val_loss: 1.3428 - val_accuracy: 0.6566\n",
            "Epoch 9/10\n",
            "3058/3058 [==============================] - 546s 179ms/step - loss: 0.2191 - accuracy: 0.9224 - val_loss: 1.4673 - val_accuracy: 0.6547\n",
            "Epoch 10/10\n",
            "3058/3058 [==============================] - 545s 178ms/step - loss: 0.1887 - accuracy: 0.9338 - val_loss: 1.6248 - val_accuracy: 0.6552\n"
          ]
        }
      ]
    },
    {
      "cell_type": "code",
      "source": [
        "import numpy as np\n",
        "from sklearn.metrics import accuracy_score, precision_recall_fscore_support # Import the missing function\n",
        "\n",
        "y_pred = model.predict(X_test_pad)\n",
        "y_pred_classes = np.argmax(y_pred, axis=1)\n",
        "\n",
        "accuracy = accuracy_score(y_test, y_pred_classes)\n",
        "precision, recall, f1_score, _ = precision_recall_fscore_support(y_test, y_pred_classes, average='macro')\n",
        "\n",
        "print(\"Accuracy:\", accuracy)\n",
        "print(\"Precision:\", precision)\n",
        "print(\"Recall:\", recall)\n",
        "print(\"F1 Score:\", f1_score)"
      ],
      "metadata": {
        "colab": {
          "base_uri": "https://localhost:8080/"
        },
        "id": "yUgGMv4qOCz0",
        "outputId": "92aaaec4-41c0-4118-9d42-6a1de6beb8fd"
      },
      "execution_count": null,
      "outputs": [
        {
          "output_type": "stream",
          "name": "stdout",
          "text": [
            "956/956 [==============================] - 31s 32ms/step\n",
            "Accuracy: 0.6564196481130224\n",
            "Precision: 0.6507132627012306\n",
            "Recall: 0.658034591321496\n",
            "F1 Score: 0.6535821210921325\n"
          ]
        }
      ]
    },
    {
      "cell_type": "code",
      "source": [
        "y_pred = model.predict(X_test_pad)\n",
        "y_pred_classes = np.argmax(y_pred, axis=1)\n",
        "print(\"Accuracy:\", accuracy_score(y_test, y_pred_classes))\n",
        "print(\"Classification Report:\\n\", classification_report(y_test, y_pred_classes))\n",
        "print(\"Confusion Matrix:\\n\", confusion_matrix(y_test, y_pred_classes))"
      ],
      "metadata": {
        "colab": {
          "base_uri": "https://localhost:8080/"
        },
        "id": "hgGR-Zvi4y2y",
        "outputId": "8e24df39-82b0-40d2-fe46-34f96b526471"
      },
      "execution_count": null,
      "outputs": [
        {
          "output_type": "stream",
          "name": "stdout",
          "text": [
            "956/956 [==============================] - 31s 32ms/step\n",
            "Accuracy: 0.6564196481130224\n",
            "Classification Report:\n",
            "               precision    recall  f1-score   support\n",
            "\n",
            "           0       0.73      0.73      0.73      5220\n",
            "           1       0.94      0.97      0.95      5216\n",
            "           2       0.44      0.37      0.40      5287\n",
            "           3       0.69      0.73      0.71      4645\n",
            "           4       0.53      0.51      0.52      5163\n",
            "           5       0.57      0.63      0.60      5047\n",
            "\n",
            "    accuracy                           0.66     30578\n",
            "   macro avg       0.65      0.66      0.65     30578\n",
            "weighted avg       0.65      0.66      0.65     30578\n",
            "\n",
            "Confusion Matrix:\n",
            " [[3807   35  324  175  714  165]\n",
            " [  19 5041   29   58   16   53]\n",
            " [ 321   62 1974  635  992 1303]\n",
            " [ 158  115  492 3390  199  291]\n",
            " [ 789   32  829  300 2656  557]\n",
            " [ 152   67  859  321  444 3204]]\n"
          ]
        }
      ]
    },
    {
      "cell_type": "code",
      "source": [
        "model.save('reddit_model1.h5')\n",
        "with open('tokenizer1.pkl', 'wb') as file:\n",
        "    pickle.dump(tokenizer, file)\n",
        "\n",
        "with open('label_encoder1.pkl', 'wb') as file:\n",
        "    pickle.dump(label_encoder, file)"
      ],
      "metadata": {
        "colab": {
          "base_uri": "https://localhost:8080/"
        },
        "id": "QnbnH7J4413v",
        "outputId": "7416ca2a-1581-4ccf-ab03-1380a3539eb5"
      },
      "execution_count": null,
      "outputs": [
        {
          "output_type": "stream",
          "name": "stderr",
          "text": [
            "/usr/local/lib/python3.10/dist-packages/keras/src/engine/training.py:3103: UserWarning: You are saving your model as an HDF5 file via `model.save()`. This file format is considered legacy. We recommend using instead the native Keras format, e.g. `model.save('my_model.keras')`.\n",
            "  saving_api.save_model(\n"
          ]
        }
      ]
    },
    {
      "cell_type": "code",
      "source": [
        "import string\n",
        "def preprocess_text(text):\n",
        "  text = re.sub('<.*?>', '', text)  # Remove tags\n",
        "  text = re.sub('[%s]' % re.escape(string.punctuation), '', text)  # Remove punctuation\n",
        "  text = re.sub('\\n', '', text)  # Remove newlines\n",
        "  text = re.sub('[0-9]+', '', text)  # Remove numbers\n",
        "  text = re.sub(r'\\s+', ' ', text)  # Remove extra spaces\n",
        "  text = text.lower()  # Lowercase the text\n",
        "  text = re.sub(r'\\W', ' ', text)  # Remove special characters\n",
        "\n",
        "  return text\n"
      ],
      "metadata": {
        "id": "jjRVCcxwPC84"
      },
      "execution_count": null,
      "outputs": []
    },
    {
      "cell_type": "code",
      "source": [
        "def predict_text_label(text):\n",
        "    text = preprocess_text(text)\n",
        "    seq = tokenizer.texts_to_sequences([text])\n",
        "    pad = pad_sequences(seq, maxlen=max_len)\n",
        "    pred = model.predict(pad)\n",
        "    label = np.argmax(pred, axis=1)[0]\n",
        "    return label_encoder.inverse_transform([label])[0]"
      ],
      "metadata": {
        "id": "mcBKklO847gU"
      },
      "execution_count": null,
      "outputs": []
    },
    {
      "cell_type": "code",
      "source": [
        "sample_text = \"I feel like to jump off the terrace.\"\n",
        "print(\"Predicted label:\", predict_text_label(sample_text))"
      ],
      "metadata": {
        "colab": {
          "base_uri": "https://localhost:8080/"
        },
        "id": "E7MFoPi25IWK",
        "outputId": "5f31b296-3dd5-4e64-b5e3-8f2c267492ce"
      },
      "execution_count": null,
      "outputs": [
        {
          "output_type": "stream",
          "name": "stdout",
          "text": [
            "1/1 [==============================] - 0s 45ms/step\n",
            "Predicted label: suicidewatch\n"
          ]
        }
      ]
    },
    {
      "cell_type": "code",
      "source": [
        "sample_text = \"Where does life start and where it ends, who knows!\"\n",
        "print(\"Predicted label:\", predict_text_label(sample_text))"
      ],
      "metadata": {
        "colab": {
          "base_uri": "https://localhost:8080/"
        },
        "id": "hZ1UFV805Lhl",
        "outputId": "7fe247d0-6fdf-4833-b85d-b65d52d1e128"
      },
      "execution_count": null,
      "outputs": [
        {
          "output_type": "stream",
          "name": "stdout",
          "text": [
            "1/1 [==============================] - 0s 43ms/step\n",
            "Predicted label: depression\n"
          ]
        }
      ]
    }
  ]
}