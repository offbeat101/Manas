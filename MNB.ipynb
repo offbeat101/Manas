{
  "nbformat": 4,
  "nbformat_minor": 0,
  "metadata": {
    "colab": {
      "provenance": [],
      "gpuType": "T4"
    },
    "kernelspec": {
      "name": "python3",
      "display_name": "Python 3"
    },
    "language_info": {
      "name": "python"
    },
    "accelerator": "GPU"
  },
  "cells": [
    {
      "cell_type": "code",
      "execution_count": null,
      "metadata": {
        "id": "oYxHxu0V4NWe"
      },
      "outputs": [],
      "source": [
        "import pandas as pd\n",
        "df = pd.read_csv('/content/drive/MyDrive/preprocessed_data.csv')\n"
      ]
    },
    {
      "cell_type": "code",
      "source": [
        "from sklearn.model_selection import train_test_split\n",
        "from sklearn.feature_extraction.text import TfidfVectorizer\n",
        "from sklearn.naive_bayes import MultinomialNB\n",
        "from sklearn.pipeline import make_pipeline\n",
        "from sklearn.metrics import classification_report, confusion_matrix, accuracy_score\n",
        "import pickle"
      ],
      "metadata": {
        "id": "_11XbM5j48b4"
      },
      "execution_count": null,
      "outputs": []
    },
    {
      "cell_type": "code",
      "source": [
        "X_train, X_test, y_train, y_test = train_test_split(df['text'], df['subreddit'], test_size=0.2, random_state=42)\n",
        "\n",
        "model = make_pipeline(TfidfVectorizer(), MultinomialNB())\n",
        "\n",
        "model.fit(X_train, y_train)\n",
        "\n",
        "y_pred = model.predict(X_test)\n",
        "\n",
        "print(\"Accuracy:\", accuracy_score(y_test, y_pred))\n",
        "print(\"Classification Report:\\n\", classification_report(y_test, y_pred))\n",
        "print(\"Confusion Matrix:\\n\", confusion_matrix(y_test, y_pred))"
      ],
      "metadata": {
        "colab": {
          "base_uri": "https://localhost:8080/"
        },
        "id": "VSr0DDYG5FMR",
        "outputId": "d73a8efe-c262-4b47-d8bc-156a9f9b1807"
      },
      "execution_count": null,
      "outputs": [
        {
          "output_type": "stream",
          "name": "stdout",
          "text": [
            "Accuracy: 0.5900320491856891\n",
            "Classification Report:\n",
            "               precision    recall  f1-score   support\n",
            "\n",
            "     anxiety       0.69      0.68      0.69      5220\n",
            "      casual       0.98      0.48      0.64      5216\n",
            "  depression       0.40      0.47      0.43      5287\n",
            "      lonely       0.66      0.68      0.67      4645\n",
            "mentalhealth       0.52      0.56      0.54      5163\n",
            "suicidewatch       0.55      0.68      0.61      5047\n",
            "\n",
            "    accuracy                           0.59     30578\n",
            "   macro avg       0.63      0.59      0.60     30578\n",
            "weighted avg       0.63      0.59      0.59     30578\n",
            "\n",
            "Confusion Matrix:\n",
            " [[3560    4  467  201  823  165]\n",
            " [ 456 2479  586  770  349  576]\n",
            " [ 299   11 2501  366  854 1256]\n",
            " [  72   30  834 3154  199  356]\n",
            " [ 649    3  968  175 2906  462]\n",
            " [ 112    8  934  140  411 3442]]\n"
          ]
        }
      ]
    },
    {
      "cell_type": "code",
      "source": [
        "with open('reddit_model.pkl', 'wb') as file:\n",
        "    pickle.dump(model, file)\n"
      ],
      "metadata": {
        "id": "pyJDrEf_5MU1"
      },
      "execution_count": null,
      "outputs": []
    },
    {
      "cell_type": "code",
      "source": [
        "def predict_text_label(text):\n",
        "    return model.predict([text])[0]"
      ],
      "metadata": {
        "id": "WSgtVRiE5Q2S"
      },
      "execution_count": null,
      "outputs": []
    },
    {
      "cell_type": "code",
      "source": [
        "sample_text = \"The world is cruel. Feels like just to die.\"\n",
        "print(\"Predicted label:\", predict_text_label(sample_text))"
      ],
      "metadata": {
        "colab": {
          "base_uri": "https://localhost:8080/"
        },
        "id": "ig1xh_dJ5VF2",
        "outputId": "d4882387-9910-459f-d979-6c311d370aa5"
      },
      "execution_count": null,
      "outputs": [
        {
          "output_type": "stream",
          "name": "stdout",
          "text": [
            "Predicted label: suicidewatch\n"
          ]
        }
      ]
    }
  ]
}